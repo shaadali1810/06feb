{
 "cells": [
  {
   "cell_type": "code",
   "execution_count": 1,
   "id": "5ecbd24c-8bb5-439c-8307-8d067999064f",
   "metadata": {},
   "outputs": [],
   "source": [
    "list1 = [1,2,3,4,[44,55,66,True], False,(34,56,78,89,34),{1,2,3,3,2,1},{1:34,\"key2\":[55,67,78,89],4:(45,22,61,34)},[56,'data science'],'Machine Learning']"
   ]
  },
  {
   "cell_type": "code",
   "execution_count": 49,
   "id": "de5b5a5c-9fb3-4b18-94e6-701b69e0af64",
   "metadata": {},
   "outputs": [],
   "source": [
    "def test(list1):\n",
    "    c = 1\n",
    "    for x in list1:\n",
    "        c *= x\n",
    "    return c"
   ]
  },
  {
   "cell_type": "code",
   "execution_count": 50,
   "id": "69175c12-0eff-4f4d-8354-0437ec8faecd",
   "metadata": {},
   "outputs": [
    {
     "data": {
      "text/plain": [
       "[1,\n",
       " 2,\n",
       " 3,\n",
       " 4,\n",
       " [44, 55, 66, True],\n",
       " False,\n",
       " (34, 56, 78, 89, 34),\n",
       " {1, 2, 3},\n",
       " {1: 34, 'key2': [55, 67, 78, 89], 4: (45, 22, 61, 34)},\n",
       " [56, 'data science'],\n",
       " 'Machine Learning']"
      ]
     },
     "execution_count": 50,
     "metadata": {},
     "output_type": "execute_result"
    }
   ],
   "source": [
    "test([list1])\n",
    "\n",
    "\n"
   ]
  },
  {
   "cell_type": "code",
   "execution_count": 3,
   "id": "49d96f39-a113-4671-9b96-0ae7466a2fb9",
   "metadata": {},
   "outputs": [],
   "source": [
    "message = \"I want to become a Data Scientist\""
   ]
  },
  {
   "cell_type": "code",
   "execution_count": 6,
   "id": "5e32c2a0-bf66-4ca8-b6dd-82b090864f8d",
   "metadata": {},
   "outputs": [
    {
     "ename": "SyntaxError",
     "evalue": "invalid syntax (298204829.py, line 5)",
     "output_type": "error",
     "traceback": [
      "\u001b[0;36m  Cell \u001b[0;32mIn[6], line 5\u001b[0;36m\u001b[0m\n\u001b[0;31m    result +=chr(ord'a' + ord('z') - ord(char))\u001b[0m\n\u001b[0m                    ^\u001b[0m\n\u001b[0;31mSyntaxError\u001b[0m\u001b[0;31m:\u001b[0m invalid syntax\n"
     ]
    }
   ],
   "source": [
    "def encrypt_message(message):\n",
    "    result=\"\"\n",
    "    for char in message:\n",
    "        if char.isalpha():\n",
    "            result += chr(ord('a') + ord('z') - ord(char))\n",
    "        elif char ==\"\":\n",
    "            result +=\"$\"\n",
    "        else:\n",
    "            result+=char\n",
    "        return result"
   ]
  },
  {
   "cell_type": "code",
   "execution_count": 8,
   "id": "e1a31ac3-9fa0-412f-8c0b-b14049fccfb2",
   "metadata": {},
   "outputs": [
    {
     "ename": "NameError",
     "evalue": "name 'encrypyt_message' is not defined",
     "output_type": "error",
     "traceback": [
      "\u001b[0;31m---------------------------------------------------------------------------\u001b[0m",
      "\u001b[0;31mNameError\u001b[0m                                 Traceback (most recent call last)",
      "Cell \u001b[0;32mIn[8], line 1\u001b[0m\n\u001b[0;32m----> 1\u001b[0m encrypted_message\u001b[38;5;241m=\u001b[39m \u001b[43mencrypyt_message\u001b[49m(message)\n\u001b[1;32m      2\u001b[0m \u001b[38;5;28mprint\u001b[39m(encrypyt_message)\n",
      "\u001b[0;31mNameError\u001b[0m: name 'encrypyt_message' is not defined"
     ]
    }
   ],
   "source": [
    "encrypted_message= encrypyt_message(message)\n",
    "print(encrypyt_message)"
   ]
  },
  {
   "cell_type": "code",
   "execution_count": null,
   "id": "6b70f2be-09bd-4942-abc4-86f6b38dd23d",
   "metadata": {},
   "outputs": [],
   "source": []
  }
 ],
 "metadata": {
  "kernelspec": {
   "display_name": "Python 3 (ipykernel)",
   "language": "python",
   "name": "python3"
  },
  "language_info": {
   "codemirror_mode": {
    "name": "ipython",
    "version": 3
   },
   "file_extension": ".py",
   "mimetype": "text/x-python",
   "name": "python",
   "nbconvert_exporter": "python",
   "pygments_lexer": "ipython3",
   "version": "3.10.8"
  }
 },
 "nbformat": 4,
 "nbformat_minor": 5
}
